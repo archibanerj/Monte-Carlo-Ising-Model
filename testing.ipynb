{
 "cells": [
  {
   "cell_type": "markdown",
   "metadata": {},
   "source": [
    "Using this notebook to test out the pipeline centrally"
   ]
  },
  {
   "cell_type": "code",
   "execution_count": 1,
   "metadata": {},
   "outputs": [],
   "source": [
    "import matplotlib.pyplot as plt\n",
    "import numpy as np\n",
    "import energy"
   ]
  },
  {
   "cell_type": "code",
   "execution_count": 2,
   "metadata": {},
   "outputs": [
    {
     "name": "stdout",
     "output_type": "stream",
     "text": [
      "[[ 1 -1  1  1  1 -1  1  1  1  1]\n",
      " [-1 -1 -1  1  1 -1 -1 -1  1  1]\n",
      " [-1  1 -1  1 -1  1  1  1  1  1]\n",
      " [ 1 -1  1 -1  1  1 -1 -1  1 -1]\n",
      " [ 1  1  1  1  1 -1  1  1 -1  1]\n",
      " [-1  1 -1 -1 -1  1 -1 -1  1 -1]\n",
      " [ 1  1 -1 -1  1 -1  1  1  1  1]\n",
      " [-1  1  1 -1  1  1 -1  1 -1 -1]\n",
      " [ 1  1  1 -1 -1  1 -1  1  1  1]\n",
      " [ 1  1  1  1  1  1 -1 -1  1 -1]]\n"
     ]
    }
   ],
   "source": [
    "# Generating seed distribution\n",
    "# This is the first step of the monte carlo method.\n",
    "\n",
    "# We choose a lattice of 10*10 spins. \n",
    "N = 10\n",
    "lattice = 2*np.random.randint(0,2,(N,N)) - 1\n",
    "print(lattice)\n",
    "\n",
    "T = 250 # In kelvin # Transition temp should be 1.64e23, kT/J ~ 2.26 (for actual value of k, putting k = 1 and J = 1)\n",
    "k = 1/100#1.38e-23"
   ]
  },
  {
   "cell_type": "code",
   "execution_count": 3,
   "metadata": {},
   "outputs": [
    {
     "name": "stdout",
     "output_type": "stream",
     "text": [
      "Energy:  16.0\n",
      "0\n"
     ]
    }
   ],
   "source": [
    "# Calculating energy\n",
    "print(\"Energy: \", energy.hamilton(lattice, J=1))\n",
    "print(energy.energy_update(lattice,J=1,flip=(4,4))) # testing spin flip energy update"
   ]
  },
  {
   "cell_type": "code",
   "execution_count": 4,
   "metadata": {},
   "outputs": [
    {
     "name": "stdout",
     "output_type": "stream",
     "text": [
      "Energy in 1 MC Step:  12.0\n",
      "(1, 7)\n"
     ]
    }
   ],
   "source": [
    "# We will now implement 1 MC Step \n",
    "# we go to an index i (randomly) [SELECTION]\n",
    "# then we perform the Metropolis Step\n",
    "\n",
    "i,j = np.random.randint(0,10,2) # SELECTION\n",
    "\n",
    "del_E = energy.energy_update(lattice,J=1,flip=(i,j))\n",
    "\n",
    "if del_E < 0:\n",
    "    lattice[i,j] = - lattice[i,j]\n",
    "    print(\"Energy in 1 MC Step: \", energy.hamilton(lattice, J=1))\n",
    "    print((i,j))\n",
    "else :\n",
    "    z = np.random.random(size= 1)\n",
    "    if z < np.exp(-del_E/(k*T)) :\n",
    "        lattice[i,j] = - lattice[i,j]\n",
    "        print(\"Energy in 1 MC Step: \", energy.hamilton(lattice, J=1))\n",
    "        print((i,j))\n",
    "    # else we reject the spin flip\n",
    "\n"
   ]
  },
  {
   "cell_type": "code",
   "execution_count": 5,
   "metadata": {},
   "outputs": [
    {
     "data": {
      "text/plain": [
       "[<matplotlib.lines.Line2D at 0x1af411c8ac0>]"
      ]
     },
     "execution_count": 5,
     "metadata": {},
     "output_type": "execute_result"
    },
    {
     "data": {
      "image/png": "[encoded data removed]",
      "text/plain": [
       "<Figure size 432x288 with 1 Axes>"
      ]
     },
     "metadata": {
      "needs_background": "light"
     },
     "output_type": "display_data"
    }
   ],
   "source": [
    "# Performing the MC step for all the N^2 spins:\n",
    "# I wish to record how the energy drops. I will collect the energies and the spin configurations in between\n",
    "\n",
    "## THIS IS A SINGLE MC CYCLE ##\n",
    "E = []\n",
    "for i in range(N):\n",
    "    for j in range(N):\n",
    "        \n",
    "        del_E = energy.energy_update(lattice,J=1,flip=(i,j))\n",
    "        if del_E < 0:\n",
    "            lattice[i,j] = - lattice[i,j]\n",
    "            E.append(energy.hamilton(lattice, J=1))\n",
    "            #print((i,j))\n",
    "        else :\n",
    "            z = np.random.random(size= 1)\n",
    "            if z < np.exp(-del_E/(k*T)) :\n",
    "                lattice[i,j] = - lattice[i,j]\n",
    "                E.append(energy.hamilton(lattice, J=1))\n",
    "                #print((i,j))\n",
    "\n",
    "plt.plot(E) # We can see that the energy of the system is indeed reducing - this means that the energy updates are correct"
   ]
  },
  {
   "cell_type": "code",
   "execution_count": 6,
   "metadata": {},
   "outputs": [
    {
     "name": "stdout",
     "output_type": "stream",
     "text": [
      "Equilibrium has been reached\n",
      "22\n",
      "39\n",
      "[[ 1  1  1  1  1  1  1 -1 -1  1]\n",
      " [ 1  1 -1  1  1  1  1 -1  1 -1]\n",
      " [ 1 -1 -1 -1 -1 -1  1  1  1 -1]\n",
      " [ 1 -1 -1 -1 -1  1 -1  1 -1  1]\n",
      " [ 1 -1  1 -1  1  1  1 -1 -1  1]\n",
      " [ 1  1  1 -1 -1  1 -1 -1 -1 -1]\n",
      " [ 1  1 -1 -1  1 -1 -1 -1 -1  1]\n",
      " [ 1  1 -1  1 -1  1  1  1  1  1]\n",
      " [ 1 -1  1 -1 -1  1  1  1  1  1]\n",
      " [ 1  1  1  1  1  1  1  1  1 -1]]\n"
     ]
    }
   ],
   "source": [
    "# Now we have to do this MC cycle on an initial \n",
    "# seed array of spins for about 10^4 times. \n",
    "# After that, we collect samples at each 10^2 \n",
    "# We collect about 10^4 samples.\n",
    "# interval of MC cycles\n",
    "\n",
    "'''Issue with the code - T = 2.26 is the transition temp. \n",
    "However, even if I put T < 2.26 I dont get a neat ordered magnet.\n",
    "I get a random distribution of spins (half in up, half in down state) '''\n",
    "\n",
    "Temp = 4  # Transition temp should be \n",
    "# T~2.26 (putting k = 1 and J = 1)\n",
    "k = 1\n",
    "\n",
    "# Check if the numbers are good enough\n",
    "t_eq = 10**3\n",
    "t_a = 10**2\n",
    "N = 10\n",
    "n = 10**4\n",
    "\n",
    "#### For these figures, it will roughly take us about 16 minutes to complete the storage of snapshots ####\n",
    "# equilibriation takes around 30s #\n",
    "#### How to improve this?        HOW TO?                                                                 ####\n",
    "\n",
    "store_disk = False\n",
    "snap = False\n",
    "lattice = 2*np.random.randint(0,2,(N,N))-1\n",
    "snapshots=[] # Better dataset to handle this?\n",
    "T = t_eq + t_a*n # total time of simulation\n",
    "for t in range(T):\n",
    "    # 1 MC cycle\n",
    "    for i in range(N):\n",
    "        for j in range(N):\n",
    "            # 1 MC Step\n",
    "            del_E = energy.energy_update(lattice,J=1,flip=(i,j))\n",
    "            if del_E < 0:\n",
    "                lattice[i,j] = - lattice[i,j]\n",
    "            else :\n",
    "                z = np.random.random(size= 1)\n",
    "                if z < np.exp(-del_E/(Temp)) :\n",
    "                    lattice[i,j] = - lattice[i,j]\n",
    "    if t>=t_eq:\n",
    "        if t==t_eq: \n",
    "            print('Equilibrium has been reached')\n",
    "\n",
    "            print(np.sum(lattice==1) - np.sum(lattice==-1))\n",
    "            print(np.sum(lattice==-1))\n",
    "\n",
    "            print(lattice)\n",
    "            if not snap:\n",
    "                break\n",
    "        if snap & (t-t_eq)%t_a == 0 :\n",
    "            # Here, calculate all the thermodynamic quantities and keep them adding \n",
    "            r = (t-t_eq)/t_a\n",
    "            if r%1000 == 0: print(\"1000 samples collected\")\n",
    "            snapshots.append(lattice) # Collecting the lattice snapshot\n",
    "            if store_disk:\n",
    "                name = \"t=\" + str(r)+\".csv\"\n",
    "                np.savetxt(\"snapshots/\"+name, lattice, delimiter=' ')\n",
    "    \n"
   ]
  },
  {
   "cell_type": "code",
   "execution_count": 7,
   "metadata": {},
   "outputs": [
    {
     "data": {
      "text/plain": [
       "<matplotlib.image.AxesImage at 0x1af412c8880>"
      ]
     },
     "execution_count": 7,
     "metadata": {},
     "output_type": "execute_result"
    },
    {
     "data": {
      "image/png": "[encoded data removed]",
      "text/plain": [
       "<Figure size 432x288 with 1 Axes>"
      ]
     },
     "metadata": {
      "needs_background": "light"
     },
     "output_type": "display_data"
    }
   ],
   "source": [
    "plt.imshow(lattice)\n"
   ]
  },
  {
   "cell_type": "code",
   "execution_count": 8,
   "metadata": {},
   "outputs": [
    {
     "data": {
      "text/plain": [
       "[<matplotlib.lines.Line2D at 0x1af413475e0>]"
      ]
     },
     "execution_count": 8,
     "metadata": {},
     "output_type": "execute_result"
    },
    {
     "data": {
      "image/png": "[encoded data removed]",
      "text/plain": [
       "<Figure size 432x288 with 1 Axes>"
      ]
     },
     "metadata": {
      "needs_background": "light"
     },
     "output_type": "display_data"
    }
   ],
   "source": [
    "k = len(snapshots)\n",
    "\n",
    "energies = []\n",
    "for i in range(k):\n",
    "    energies.append(energy.hamilton(snapshots[i],J=1))\n",
    "\n",
    "plt.plot(energies)"
   ]
  },
  {
   "cell_type": "code",
   "execution_count": 9,
   "metadata": {},
   "outputs": [
    {
     "data": {
      "text/plain": [
       "'How systems thermalise etx'"
      ]
     },
     "execution_count": 9,
     "metadata": {},
     "output_type": "execute_result"
    }
   ],
   "source": [
    "\"non equilibrium time evoltion as a markovian process like the random walk?\" \n",
    "\"How systems thermalise etx\""
   ]
  },
  {
   "cell_type": "code",
   "execution_count": 10,
   "metadata": {},
   "outputs": [
    {
     "data": {
      "text/plain": [
       "array([0.44311921])"
      ]
     },
     "execution_count": 10,
     "metadata": {},
     "output_type": "execute_result"
    }
   ],
   "source": [
    "np.random.random(size= 1)"
   ]
  },
  {
   "cell_type": "code",
   "execution_count": 11,
   "metadata": {},
   "outputs": [],
   "source": [
    "# Next step - For each temperature, \n",
    "# (start from some low value) - obtain all the equilibrium snapshots,\n",
    "# calculate magnetisation m , energy E, plot m as a function of Temp\n",
    "# Then, calculate specific heat, susceptibility, magnetisation per unit spin (write functions for these)\n",
    "# After this is done, then repeat the entire thing for different T and also size N"
   ]
  },
  {
   "cell_type": "code",
   "execution_count": 12,
   "metadata": {},
   "outputs": [],
   "source": [
    "# Write a function for a single MC cycle"
   ]
  },
  {
   "cell_type": "code",
   "execution_count": 7,
   "metadata": {},
   "outputs": [
    {
     "name": "stdout",
     "output_type": "stream",
     "text": [
      "Done for t= 0.1\n",
      "Done for t= 0.2\n",
      "Done for t= 0.30000000000000004\n",
      "Done for t= 0.4\n",
      "Done for t= 0.5\n",
      "Done for t= 0.6\n",
      "Done for t= 0.7000000000000001\n",
      "Done for t= 0.8\n",
      "Done for t= 0.9\n",
      "Done for t= 1.0\n"
     ]
    },
    {
     "ename": "KeyboardInterrupt",
     "evalue": "",
     "output_type": "error",
     "traceback": [
      "\u001b[1;31m---------------------------------------------------------------------------\u001b[0m",
      "\u001b[1;31mKeyboardInterrupt\u001b[0m                         Traceback (most recent call last)",
      "\u001b[1;32mc:\\Users\\archi\\Documents\\Statistical Physics\\Monte Carlo\\testing.ipynb Cell 14\u001b[0m in \u001b[0;36m<cell line: 24>\u001b[1;34m()\u001b[0m\n\u001b[0;32m     <a href='vscode-notebook-cell:/c%3A/Users/archi/Documents/Statistical%20Physics/Monte%20Carlo/testing.ipynb#X16sZmlsZQ%3D%3D?line=26'>27</a>\u001b[0m \u001b[39mfor\u001b[39;00m i \u001b[39min\u001b[39;00m \u001b[39mrange\u001b[39m(\u001b[39m1\u001b[39m,\u001b[39m10000\u001b[39m):\n\u001b[0;32m     <a href='vscode-notebook-cell:/c%3A/Users/archi/Documents/Statistical%20Physics/Monte%20Carlo/testing.ipynb#X16sZmlsZQ%3D%3D?line=27'>28</a>\u001b[0m     fname \u001b[39m=\u001b[39m path \u001b[39m+\u001b[39m \u001b[39m\"\u001b[39m\u001b[39mn=\u001b[39m\u001b[39m\"\u001b[39m\u001b[39m+\u001b[39m\u001b[39mstr\u001b[39m(\u001b[39mround\u001b[39m(\u001b[39mfloat\u001b[39m(i),\u001b[39m1\u001b[39m))\u001b[39m+\u001b[39m\u001b[39m\"\u001b[39m\u001b[39m.csv\u001b[39m\u001b[39m\"\u001b[39m\n\u001b[1;32m---> <a href='vscode-notebook-cell:/c%3A/Users/archi/Documents/Statistical%20Physics/Monte%20Carlo/testing.ipynb#X16sZmlsZQ%3D%3D?line=28'>29</a>\u001b[0m     lattice \u001b[39m=\u001b[39m np\u001b[39m.\u001b[39;49mloadtxt(fname)\n\u001b[0;32m     <a href='vscode-notebook-cell:/c%3A/Users/archi/Documents/Statistical%20Physics/Monte%20Carlo/testing.ipynb#X16sZmlsZQ%3D%3D?line=29'>30</a>\u001b[0m     m \u001b[39m+\u001b[39m\u001b[39m=\u001b[39m td\u001b[39m.\u001b[39mmagnetisation(lattice)\n\u001b[0;32m     <a href='vscode-notebook-cell:/c%3A/Users/archi/Documents/Statistical%20Physics/Monte%20Carlo/testing.ipynb#X16sZmlsZQ%3D%3D?line=30'>31</a>\u001b[0m     \u001b[39mif\u001b[39;00m \u001b[39mround\u001b[39m(t,\u001b[39m1\u001b[39m) \u001b[39m==\u001b[39m below_Tc :\n",
      "File \u001b[1;32mc:\\Users\\archi\\anaconda3\\lib\\site-packages\\numpy\\lib\\npyio.py:1067\u001b[0m, in \u001b[0;36mloadtxt\u001b[1;34m(fname, dtype, comments, delimiter, converters, skiprows, usecols, unpack, ndmin, encoding, max_rows, like)\u001b[0m\n\u001b[0;32m   1065\u001b[0m     fname \u001b[39m=\u001b[39m os_fspath(fname)\n\u001b[0;32m   1066\u001b[0m \u001b[39mif\u001b[39;00m _is_string_like(fname):\n\u001b[1;32m-> 1067\u001b[0m     fh \u001b[39m=\u001b[39m np\u001b[39m.\u001b[39;49mlib\u001b[39m.\u001b[39;49m_datasource\u001b[39m.\u001b[39;49mopen(fname, \u001b[39m'\u001b[39;49m\u001b[39mrt\u001b[39;49m\u001b[39m'\u001b[39;49m, encoding\u001b[39m=\u001b[39;49mencoding)\n\u001b[0;32m   1068\u001b[0m     fencoding \u001b[39m=\u001b[39m \u001b[39mgetattr\u001b[39m(fh, \u001b[39m'\u001b[39m\u001b[39mencoding\u001b[39m\u001b[39m'\u001b[39m, \u001b[39m'\u001b[39m\u001b[39mlatin1\u001b[39m\u001b[39m'\u001b[39m)\n\u001b[0;32m   1069\u001b[0m     fh \u001b[39m=\u001b[39m \u001b[39miter\u001b[39m(fh)\n",
      "File \u001b[1;32mc:\\Users\\archi\\anaconda3\\lib\\site-packages\\numpy\\lib\\_datasource.py:193\u001b[0m, in \u001b[0;36mopen\u001b[1;34m(path, mode, destpath, encoding, newline)\u001b[0m\n\u001b[0;32m    156\u001b[0m \u001b[39m\"\"\"\u001b[39;00m\n\u001b[0;32m    157\u001b[0m \u001b[39mOpen `path` with `mode` and return the file object.\u001b[39;00m\n\u001b[0;32m    158\u001b[0m \n\u001b[1;32m   (...)\u001b[0m\n\u001b[0;32m    189\u001b[0m \n\u001b[0;32m    190\u001b[0m \u001b[39m\"\"\"\u001b[39;00m\n\u001b[0;32m    192\u001b[0m ds \u001b[39m=\u001b[39m DataSource(destpath)\n\u001b[1;32m--> 193\u001b[0m \u001b[39mreturn\u001b[39;00m ds\u001b[39m.\u001b[39;49mopen(path, mode, encoding\u001b[39m=\u001b[39;49mencoding, newline\u001b[39m=\u001b[39;49mnewline)\n",
      "File \u001b[1;32mc:\\Users\\archi\\anaconda3\\lib\\site-packages\\numpy\\lib\\_datasource.py:530\u001b[0m, in \u001b[0;36mDataSource.open\u001b[1;34m(self, path, mode, encoding, newline)\u001b[0m\n\u001b[0;32m    528\u001b[0m     \u001b[39mif\u001b[39;00m ext \u001b[39m==\u001b[39m \u001b[39m'\u001b[39m\u001b[39mbz2\u001b[39m\u001b[39m'\u001b[39m:\n\u001b[0;32m    529\u001b[0m         mode\u001b[39m.\u001b[39mreplace(\u001b[39m\"\u001b[39m\u001b[39m+\u001b[39m\u001b[39m\"\u001b[39m, \u001b[39m\"\u001b[39m\u001b[39m\"\u001b[39m)\n\u001b[1;32m--> 530\u001b[0m     \u001b[39mreturn\u001b[39;00m _file_openers[ext](found, mode\u001b[39m=\u001b[39;49mmode,\n\u001b[0;32m    531\u001b[0m                               encoding\u001b[39m=\u001b[39;49mencoding, newline\u001b[39m=\u001b[39;49mnewline)\n\u001b[0;32m    532\u001b[0m \u001b[39melse\u001b[39;00m:\n\u001b[0;32m    533\u001b[0m     \u001b[39mraise\u001b[39;00m \u001b[39mIOError\u001b[39;00m(\u001b[39m\"\u001b[39m\u001b[39m%s\u001b[39;00m\u001b[39m not found.\u001b[39m\u001b[39m\"\u001b[39m \u001b[39m%\u001b[39m path)\n",
      "File \u001b[1;32mc:\\Users\\archi\\anaconda3\\lib\\_bootlocale.py:11\u001b[0m, in \u001b[0;36mgetpreferredencoding\u001b[1;34m(do_setlocale)\u001b[0m\n\u001b[0;32m      8\u001b[0m \u001b[39mimport\u001b[39;00m \u001b[39m_locale\u001b[39;00m\n\u001b[0;32m     10\u001b[0m \u001b[39mif\u001b[39;00m sys\u001b[39m.\u001b[39mplatform\u001b[39m.\u001b[39mstartswith(\u001b[39m\"\u001b[39m\u001b[39mwin\u001b[39m\u001b[39m\"\u001b[39m):\n\u001b[1;32m---> 11\u001b[0m     \u001b[39mdef\u001b[39;00m \u001b[39mgetpreferredencoding\u001b[39m(do_setlocale\u001b[39m=\u001b[39m\u001b[39mTrue\u001b[39;00m):\n\u001b[0;32m     12\u001b[0m         \u001b[39mif\u001b[39;00m sys\u001b[39m.\u001b[39mflags\u001b[39m.\u001b[39mutf8_mode:\n\u001b[0;32m     13\u001b[0m             \u001b[39mreturn\u001b[39;00m \u001b[39m'\u001b[39m\u001b[39mUTF-8\u001b[39m\u001b[39m'\u001b[39m\n",
      "\u001b[1;31mKeyboardInterrupt\u001b[0m: "
     ]
    }
   ],
   "source": [
    "import os \n",
    "import thermodynamics as td\n",
    "import numpy as np\n",
    "import matplotlib.pyplot as plt\n",
    "\n",
    "temp = np.arange(0.1,5.1, step = 0.1)\n",
    "mag = [] # Ensemble-Averaged Magnetisation at each temperature\n",
    "E = [] # Ensemble-Averaged Energy at each temperature\n",
    "\n",
    "# Self task - can you do free energy vs magnetisation? \n",
    "\n",
    "below_Tc = 2.1 # If you get good results, try 2.2\n",
    "above_Tc = 2.4 # If you get good results, try 2.3\n",
    "\n",
    "mag_below = []\n",
    "E_below = []\n",
    "mag_above = []\n",
    "E_above = []\n",
    "\n",
    "\n",
    "fn = \"snapshots\\\\N=5\\\\\"  # You will have to do this calculation for N = [5,10,20,30]\n",
    "\n",
    "# task - write down all the thermodynamic functions.\n",
    "# Read through the entire generated data and store the essential td. functions/potentials\n",
    "# Calc response functions from this stored data\n",
    "### PART 3 DISTRIBUTION OF M vS E ###\n",
    "\n",
    "# For plotting m - T transition\n",
    "for t in temp:\n",
    "    path = fn + \"temp=\" + str(round(t,1)) + \"\\\\\"\n",
    "    m=0\n",
    "    for i in range(1,10000):\n",
    "        fname = path + \"n=\"+str(round(float(i),1))+\".csv\"\n",
    "        lattice = np.loadtxt(fname)\n",
    "        lattice_mag = td.magnetisation(lattice)\n",
    "        lattice_E = energy.hamilton(lattice, J=1)\n",
    "        m += lattice_mag\n",
    "        E += lattice_E\n",
    "        if round(t,1) == below_Tc :\n",
    "            mag_below.append(lattice_mag)\n",
    "            E_below.append(lattice_E)\n",
    "        elif round(t,1) == above_Tc :\n",
    "            mag_above.append(lattice_mag)\n",
    "            E_above.append(lattice_E)\n",
    "    print(\"Done for t=\",t)\n",
    "    m /= 10000\n",
    "    mag.append(m)\n",
    "plt.plot(temp, np.array(mag))\n"
   ]
  },
  {
   "cell_type": "code",
   "execution_count": 6,
   "metadata": {},
   "outputs": [
    {
     "data": {
      "text/plain": [
       "[<matplotlib.lines.Line2D at 0x210d0126af0>]"
      ]
     },
     "execution_count": 6,
     "metadata": {},
     "output_type": "execute_result"
    },
    {
     "data": {
      "image/png": "[encoded data removed]",
      "text/plain": [
       "<Figure size 432x288 with 1 Axes>"
      ]
     },
     "metadata": {
      "needs_background": "light"
     },
     "output_type": "display_data"
    }
   ],
   "source": [
    "plt.plot(temp, np.abs(np.array(mag)))\n",
    "\n",
    "# This drops off too soon. This is perhaps because of small size\n",
    "# Tasks - produce larger sizes."
   ]
  },
  {
   "cell_type": "code",
   "execution_count": null,
   "metadata": {},
   "outputs": [],
   "source": [
    "# Equiblibrium distribution of m v/s E in histogram above and below Tc\n",
    "\n",
    "## DO THIS PART ##\n",
    "\n"
   ]
  }
 ],
 "metadata": {
  "kernelspec": {
   "display_name": "Python 3.9.12 ('base')",
   "language": "python",
   "name": "python3"
  },
  "language_info": {
   "codemirror_mode": {
    "name": "ipython",
    "version": 3
   },
   "file_extension": ".py",
   "mimetype": "text/x-python",
   "name": "python",
   "nbconvert_exporter": "python",
   "pygments_lexer": "ipython3",
   "version": "3.9.12"
  },
  "orig_nbformat": 4,
  "vscode": {
   "interpreter": {
    "hash": "2ada099663b50d034f08b15c6ef1c253ee8bd63513a7db99708921041d290f80"
   }
  }
 },
 "nbformat": 4,
 "nbformat_minor": 2
}
