{
 "cells": [
  {
   "cell_type": "code",
   "execution_count": 1,
   "metadata": {},
   "outputs": [],
   "source": [
    "import matplotlib.pyplot as plt\n",
    "import numpy as np\n",
    "import time\n",
    "import thermodynamics as td\n",
    "from montecarlo import *\n",
    "from energy import *"
   ]
  },
  {
   "attachments": {},
   "cell_type": "markdown",
   "metadata": {},
   "source": [
    "Some interesting ideas:\n",
    "\n",
    "* Numerical method to find autocorrelation time? \n",
    "* See how the time taken increases for a 100*100 lattice. - time taken is 242 minutes or approximately 4 hours for a single temperature. Still this is too much. \n",
    "* Idea -*Can we, say, train a 'scale invariant machine learning model' , we train it on small lattices, and we can generate large lattice size* configurations easily from the trained decoder or something? This will make snapshot generation easier\n",
    "\n",
    "Possible improvements:\n",
    "* further improvements in space and time complexity in the following code?\n",
    "* What kind of time requirements in saving the snapshots, optimal function to do so\n",
    "* Improved estimators using clusters for estimating magnetisation etc. \n",
    "\n",
    "Other ideas:\n",
    "* Can we create a gif/animation of the equilibriation process/ the markov chain? "
   ]
  },
  {
   "attachments": {},
   "cell_type": "markdown",
   "metadata": {},
   "source": [
    "## Determination of autocorrelation time and equilibriation time\n",
    "\n",
    "This is done for N=8\n",
    "\n",
    "Let us do the following:\n",
    "1. Take temperatures 1,2,3,4,5\n",
    "2. For each temperature, perform the monte carlo for 1000 + 300 steps, 300 for equilibriation\n",
    "3. Now, for each temperature, plot how the magnetisation changes in the monte carlo time\n",
    "4. Verify that 300 indeed is a good number for equilibriation\n",
    "5. Now, calculate the autocorrelation function for each temperature using the formula.\n",
    "6. Plot the ACF for different temperatures\n",
    "7. Now extract the autocorrelation time for each temperature\n",
    "\n",
    "Once all of this is done, write this down into one single function/set of functions and repeat for N=[10,20,30,40,50]"
   ]
  },
  {
   "attachments": {},
   "cell_type": "markdown",
   "metadata": {},
   "source": [
    "See the following link: https://dfm.io/posts/autocorr/"
   ]
  },
  {
   "attachments": {},
   "cell_type": "markdown",
   "metadata": {},
   "source": [
    "### Important\n",
    "Check if the code below is indeed correct. Why aren't we seeing critical slowing down? Check the following links:\n",
    "\n",
    "https://physics.stackexchange.com/questions/626649/decorrelation-times-for-a-2d-ising-model-over-a-range-of-temperatures\n",
    "https://physics.stackexchange.com/questions/445197/periodic-autocorrelation-function-for-ising-model?rq=1\n",
    "\n",
    "See if your results match these. Keep doing it for 8*8 lattices till you are convinced\n",
    "\n",
    "0. An important issue - negative or less than 1 or 2, or fractional AC times???\n",
    "1. Key issue is that - we aren't seeing critical slowing in our plots. Ideally, the autocorrelation time must diverge near the critical point (peak in the case of finite lattices). But in our case instead of peaking it monotonically increased for increasing temperature. Check if this happens with the metropolis algorithm [resolved]\n",
    "\n",
    "2. For better plots, use parallel chains at same temperature, calculate autocorrelation times for each, then average\n",
    "\n",
    "3. There are two ways of calculating the AC time. One is the cumsum method you have used, the other is to fit a exponentially decaying curve of the form $e^{-t/\\tau}$ to extract $\\tau$"
   ]
  },
  {
   "cell_type": "code",
   "execution_count": 3,
   "metadata": {},
   "outputs": [],
   "source": [
    "# Autocorrelation function #\n",
    "\n",
    "def acf(data):\n",
    "    ''' explain the logic of this code '''\n",
    "    ''' Optimize this function '''\n",
    "    x = np.array(data) \n",
    "\n",
    "    # Mean\n",
    "    mean = np.mean(data)\n",
    "\n",
    "    # Variance\n",
    "    var = np.var(data)\n",
    "\n",
    "    # Normalized data\n",
    "    ndata = data - mean\n",
    "\n",
    "    acorr = np.correlate(ndata, ndata, 'full')[len(ndata)-1:] \n",
    "    acorr = acorr / var / len(ndata)\n",
    "\n",
    "    return acorr\n",
    "\n",
    "def next_pow_two(n):\n",
    "    i = 1\n",
    "    while i < n:\n",
    "        i = i << 1\n",
    "    return i\n",
    "\n",
    "\n",
    "def autocorr_func_1d(x, norm=True):\n",
    "    x = np.atleast_1d(x)\n",
    "    if len(x.shape) != 1:\n",
    "        raise ValueError(\"invalid dimensions for 1D autocorrelation function\")\n",
    "    n = next_pow_two(len(x))\n",
    "\n",
    "    # Compute the FFT and then (from that) the auto-correlation function\n",
    "    f = np.fft.fft(x - np.mean(x), n=2 * n)\n",
    "    acf = np.fft.ifft(f * np.conjugate(f))[: len(x)].real\n",
    "    acf /= 4 * n\n",
    "\n",
    "    # Optionally normalize\n",
    "    if norm:\n",
    "        acf /= acf[0]\n",
    "\n",
    "    return acf\n",
    "\n",
    "# For the following two functions, we use the link above.\n",
    "\n",
    "def auto_window(taus, c):\n",
    "    m = np.arange(len(taus)) < c * taus\n",
    "    if np.any(m):\n",
    "        return np.argmin(m)\n",
    "    return len(taus) - 1\n",
    "\n",
    "def autocorr_time(AC_f, c=5.0):\n",
    "    taus = 2.0 * np.cumsum(AC_f) - 1.0\n",
    "    window = auto_window(taus, c)\n",
    "    return taus[window]"
   ]
  },
  {
   "cell_type": "code",
   "execution_count": 4,
   "metadata": {},
   "outputs": [],
   "source": [
    "# Temperature array for actual simulation #\n",
    "\n",
    "Temp = np.array(range(1,51))/10 # temperatures in steps of 0.1\n",
    "Temp1 = np.array(range(200,300))/100 # more dense sampling of temperature around critical value\n",
    "temp_AC = np.unique(np.append(Temp,Temp1)) # final temperature array"
   ]
  },
  {
   "cell_type": "code",
   "execution_count": 5,
   "metadata": {},
   "outputs": [
    {
     "name": "stdout",
     "output_type": "stream",
     "text": [
      "There, there, this won't take much time.\n"
     ]
    }
   ],
   "source": [
    "# Temperatures for running diagnostics and seeing correctness #\n",
    "\n",
    "temp_AC = np.array([0.1,0.5,1,1.5,1.7,1.9,2.1,2.2,2.3,2.4,2.5,2.6,2.7,2.8,2.9,3,3.2,3.4,3.8,4,4.4,4.8,5])\n",
    "\n",
    "\n",
    "iterations = 10000\n",
    "t_eq = 300\n",
    "T = iterations + t_eq\n",
    "sizes = [10] # 8,16,32,64] # 64 takes too much time\n",
    "# We use 5 for metropolis\n",
    "\n",
    "mag = [] # monte carlo evolution of magnetisation for different temperatures\n",
    "Mag = []\n",
    "energy_MC = [] # monte carlo evolution of energy for different temperatures\n",
    "ACF = []\n",
    "tau = []\n",
    "Tau = []\n",
    "temp_mag = []\n",
    "temp_ACF = []\n",
    "cluster_size = [] \n",
    "Clusters_size_N = [] # For storing cluster sizes for all N\n",
    "t=0\n",
    "\n",
    "# Please try to understand the time scales relevant here in this code\n",
    "# Also, how about a cluster size plot for this??\n",
    "# How to speed up this calculation?\n",
    "\n",
    "for size in sizes:\n",
    "    for i in temp_AC:\n",
    "        beta = 1/i\n",
    "        lattice = 2*np.random.randint(0,2,(size,size))-1\n",
    "        temp_mag = []\n",
    "        temp_energy = []\n",
    "        temp_cluster_size = []\n",
    "        t = 0\n",
    "        while t<T:\n",
    "            lattice,clusters = Wolff(lattice,beta) #mcCycle(lattice,N=size,Temp=beta**(-1)) #\n",
    "            temp_mag.append(td.magnetisation(lattice))\n",
    "            temp_cluster_size.append(len(clusters))\n",
    "            #temp_energy.append(hamilton(lattice, J=1))\n",
    "            t += 1\n",
    "        #energy_MC.append(temp_energy)\n",
    "        #mag.append(temp_mag)\n",
    "        temp_ACF = autocorr_func_1d(temp_mag)\n",
    "        #ACF.append(temp_ACF)\n",
    "        tau.append(autocorr_time(temp_ACF))\n",
    "        cluster_size.append(np.mean(np.array(temp_cluster_size)))\n",
    "    Tau.append(tau)\n",
    "    tau = []\n",
    "    #Mag.append(mag)\n",
    "    #mag = []\n",
    "    Clusters_size_N.append(cluster_size)\n",
    "    cluster_size = []\n",
    "    print(\"There, there, this won't take much time.\")\n",
    "    \n"
   ]
  },
  {
   "cell_type": "code",
   "execution_count": null,
   "metadata": {},
   "outputs": [],
   "source": [
    "np.savetxt(\"AutoCorr_times.csv\",Tau)\n",
    "np.savetxt(\"Mags_MC_simulation.csv\",Mag)"
   ]
  },
  {
   "attachments": {},
   "cell_type": "markdown",
   "metadata": {},
   "source": [
    "# Some Results of the above code"
   ]
  },
  {
   "attachments": {},
   "cell_type": "markdown",
   "metadata": {},
   "source": [
    "1. The plot below was obtained for a $5 \\times 5$ lattice of spins with the algorithm for random update being the Metropolis algorithm. One can clearly see the critical slowing down problem in this case, with the autocorrelation time increasing abruptly near the finite size pseudo critical point, and then reducing exponentially. The monte carlo chain at each temperature was 100000 instances long."
   ]
  },
  {
   "cell_type": "code",
   "execution_count": 8,
   "metadata": {},
   "outputs": [
    {
     "data": {
      "image/jpeg": "[encoded data removed]",
      "text/plain": [
       "<IPython.core.display.Image object>"
      ]
     },
     "execution_count": 8,
     "metadata": {},
     "output_type": "execute_result"
    }
   ],
   "source": [
    "from IPython import display\n",
    "display.Image(\"Metropolis_CSD.jpg\")"
   ]
  },
  {
   "attachments": {},
   "cell_type": "markdown",
   "metadata": {},
   "source": [
    "### Question - what is the reason behind critical slowing down in metropolis algorithm?\n",
    "\n",
    "1. For $T<T_c$, let us consider the monte carlo chain after equilibriation. That is, when most of the spins are ordered. Then, the probability of flipping a spin to the opposite direction to ordering is very low. Thus, the lattice does not change much /is not updated many times once it has equilibriated, and its magnetisation also saturates modulo some thermal fluctuations governed by the probabilistic boltzmann weights of transitions. On an average these fluctuations are uncorrelated, thus the autocorrelation time is minimal. \n",
    "\n",
    "    The key point here is as follows - when calculating the ACF, we subtract the mean from the time series. This essentially means that we are calculating the lagged correlation between the thermal fluctuations in the magnetisation on top of the true order parameter in the ordered state; and not the magnetisation itself. \n",
    "\n",
    "    Think of it in the following way - after a particular step A if some spins are flipped thermally, then after the step A+1, most of these spins will be flipped back to the ordered state, and new spins at different locations will be flipped to the opposite state *quite generally*, thus leading to a completely uncorrelated configuration with no causal link. - uncorrelated not in the sense that the two don't share the same magnetisation (which they indeed do!), but in the sense that the *fluctuations around the magnetisation are uncorrelated*. \n",
    "\n",
    "2. For $T>T_c$, the thermal fluctuations dominate over the tendency to order spins, and the order parameter - which is 0 now; and since these fluctuations are still uncorrelated between two different monte carlo steps, the autocorrelation time is again 0. \n",
    "\n",
    "    To rephrase it in another way, in $T>T_c$, the correlation length vanishes, and there are only small-sized clusters. This means that flipping some spins of an individual configuration completely alter these clusters, and the configuration, hence the magnetisation, is forgotten after each monte carlo step. \n",
    "\n",
    "3. For $T \\sim T_c$ there is a correlation between the lagged magnetisations. How so? In this critical region, correlation length diverges, and clusters of various sizes form. It would be very hard for a single spin-flip based algorithm to clear out large clusters at once, thus, the cluster and hence the configurations persist over large ranges of the monte carlo time, thus, the high autocorrelation time. \n",
    "\n",
    "    To put it in another way, thermal spin flips of one step might cause cluster formation after the next step by hosting sites to form new, *possibly non-negligibly large* clusters. In this way, the fluctuations around the mean magnetisation become correlated.\n",
    "\n",
    "Essentially, it all boils down to the divergence of the correlation length."
   ]
  },
  {
   "attachments": {},
   "cell_type": "markdown",
   "metadata": {},
   "source": [
    "2. Note the cluster size plot obtained here. This is eerily similar to the magnetisation plot. This has two foremost implications for us. \n",
    "\n",
    "    Firstly, it means that at higher temperatures, each Wolff step requires less space and time to be computed. Now, the high cluster size issue at low temperatures is offset by the fact that it allows for faster sampling. Critical slowdown is also effectively minimized in this case as seen in the autocorrelation time plots, hence making this algorithm a much faster alternative to metropolis\n",
    "\n",
    "    On the other hand, it is strikingly similar to the magnetisation plot. Infact, the magnetisation can be calculated from the cluster size that has been flipped. *Can you prove this point?* \n",
    "\n",
    "    This experiment was done for a lattice of $10 \\times 10$ lattice spins, and the monte carlo run was for 10000 Wolff iterations after equilibriation"
   ]
  },
  {
   "cell_type": "code",
   "execution_count": 10,
   "metadata": {},
   "outputs": [
    {
     "data": {
      "image/jpeg": "[encoded data removed]",
      "text/plain": [
       "<IPython.core.display.Image object>"
      ]
     },
     "execution_count": 10,
     "metadata": {},
     "output_type": "execute_result"
    }
   ],
   "source": [
    "display.Image(\"ClusterSize.jpeg\")"
   ]
  }
 ],
 "metadata": {
  "kernelspec": {
   "display_name": "base",
   "language": "python",
   "name": "python3"
  },
  "language_info": {
   "codemirror_mode": {
    "name": "ipython",
    "version": 3
   },
   "file_extension": ".py",
   "mimetype": "text/x-python",
   "name": "python",
   "nbconvert_exporter": "python",
   "pygments_lexer": "ipython3",
   "version": "3.9.12"
  },
  "orig_nbformat": 4
 },
 "nbformat": 4,
 "nbformat_minor": 2
}
